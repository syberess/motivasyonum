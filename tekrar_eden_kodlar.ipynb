{
 "cells": [
  {
   "cell_type": "code",
   "execution_count": null,
   "id": "740ad1b6",
   "metadata": {
    "vscode": {
     "languageId": "plaintext"
    }
   },
   "outputs": [],
   "source": []
  },
  {
   "cell_type": "markdown",
   "id": "c1cd8b49",
   "metadata": {},
   "source": [
    "sanal makine aktifleştirme"
   ]
  },
  {
   "cell_type": "code",
   "execution_count": null,
   "id": "dd5b66c3",
   "metadata": {
    "vscode": {
     "languageId": "plaintext"
    }
   },
   "outputs": [],
   "source": [
    ".\\venv\\Scripts\\activate"
   ]
  },
  {
   "cell_type": "markdown",
   "id": "be60b5f5",
   "metadata": {},
   "source": [
    "dosya kodu çalıştırma"
   ]
  },
  {
   "cell_type": "code",
   "execution_count": null,
   "id": "4d2eee06",
   "metadata": {
    "vscode": {
     "languageId": "plaintext"
    }
   },
   "outputs": [],
   "source": [
    "streamlit run motivasyonum_app.py "
   ]
  },
  {
   "cell_type": "markdown",
   "id": "0431c620",
   "metadata": {},
   "source": [
    "kütüphane yükleme kodu"
   ]
  },
  {
   "cell_type": "code",
   "execution_count": null,
   "id": "86503c42",
   "metadata": {
    "vscode": {
     "languageId": "plaintext"
    }
   },
   "outputs": [],
   "source": [
    "pip install matplotlib"
   ]
  }
 ],
 "metadata": {
  "language_info": {
   "name": "python"
  }
 },
 "nbformat": 4,
 "nbformat_minor": 5
}
